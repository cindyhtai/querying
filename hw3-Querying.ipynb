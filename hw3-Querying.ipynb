{
 "cells": [
  {
   "cell_type": "code",
   "execution_count": 39,
   "metadata": {},
   "outputs": [],
   "source": [
    "# Author: Cindy Tai\n",
    "# Date: 20200212\n",
    "# CS301-006, Professor Watson\n",
    "# HW03 Solution\n",
    "# Learning to use the panda module as a means to data querying\n",
    "# https://github.com/htai327/\n",
    "# https://github.com/htai327/\n",
    "# master"
   ]
  },
  {
   "cell_type": "code",
   "execution_count": 40,
   "metadata": {},
   "outputs": [],
   "source": [
    "import pandas as pd"
   ]
  },
  {
   "cell_type": "markdown",
   "metadata": {},
   "source": [
    "### Problem 1"
   ]
  },
  {
   "cell_type": "code",
   "execution_count": 41,
   "metadata": {},
   "outputs": [],
   "source": [
    "def data_reader(data_path):\n",
    "    try:\n",
    "        df = pd.read_csv(data_path)\n",
    "        print('The shape is: ' + str(df.shape))\n",
    "        return df\n",
    "    except:\n",
    "        print('Error during reading, please try again')\n",
    "        return None"
   ]
  },
  {
   "cell_type": "code",
   "execution_count": 42,
   "metadata": {},
   "outputs": [
    {
     "name": "stdout",
     "output_type": "stream",
     "text": [
      "The shape is: (193, 6)\n"
     ]
    }
   ],
   "source": [
    "my = data_reader('D:\\\\Users\\\\ct890\\\\documents\\\\NJIT\\\\2Spring2020\\\\CS301\\\\Lab2\\\\drinks.csv')"
   ]
  },
  {
   "cell_type": "code",
   "execution_count": 43,
   "metadata": {},
   "outputs": [],
   "source": [
    "#my = data_reader('doesNotExist.csv')"
   ]
  },
  {
   "cell_type": "markdown",
   "metadata": {},
   "source": [
    "### Problem 2"
   ]
  },
  {
   "cell_type": "code",
   "execution_count": 44,
   "metadata": {},
   "outputs": [],
   "source": [
    "import numpy as np"
   ]
  },
  {
   "cell_type": "code",
   "execution_count": 45,
   "metadata": {},
   "outputs": [],
   "source": [
    "def get_num_outliers(df, col):\n",
    "    col_list = df[col].tolist()\n",
    "    \n",
    "    q1 = np.quantile(col_list, .25)\n",
    "    q3 = np.quantile(col_list, .75)\n",
    "    \n",
    "    IQR = q3 - q1\n",
    "    lowerb = q1 - 1.5 * IQR\n",
    "    upperb = q3 + 1.5 * IQR\n",
    "    \n",
    "    outlier = np.array(col_list)\n",
    "    outlier = outlier[(outlier < lowerb) | (outlier > upperb)]\n",
    "    \n",
    "    return len(outlier)"
   ]
  },
  {
   "cell_type": "code",
   "execution_count": 46,
   "metadata": {},
   "outputs": [
    {
     "data": {
      "text/plain": [
       "26"
      ]
     },
     "execution_count": 46,
     "metadata": {},
     "output_type": "execute_result"
    }
   ],
   "source": [
    "get_num_outliers(my, 'wine_servings')"
   ]
  },
  {
   "cell_type": "markdown",
   "metadata": {},
   "source": [
    "### Problem 3"
   ]
  },
  {
   "cell_type": "code",
   "execution_count": 47,
   "metadata": {},
   "outputs": [],
   "source": [
    "def get_num_deviants(df, col, multiplier):\n",
    "    col_list = df[col].tolist()\n",
    "    \n",
    "    mean = df.loc[:, col].mean()\n",
    "    std = df.loc[:, col].std()\n",
    "    \n",
    "    bound = float(multiplier) * std\n",
    "    upperb = mean + bound\n",
    "    lowerb = mean - bound\n",
    "    \n",
    "    deviants = np.array(col_list)\n",
    "    deviants = deviants[ (deviants < lowerb) | (deviants > upperb) ]\n",
    "    \n",
    "    return len(deviants)"
   ]
  },
  {
   "cell_type": "code",
   "execution_count": 48,
   "metadata": {},
   "outputs": [
    {
     "data": {
      "text/plain": [
       "28"
      ]
     },
     "execution_count": 48,
     "metadata": {},
     "output_type": "execute_result"
    }
   ],
   "source": [
    "get_num_deviants(my, 'wine_servings', 1)"
   ]
  },
  {
   "cell_type": "code",
   "execution_count": 49,
   "metadata": {},
   "outputs": [
    {
     "data": {
      "text/plain": [
       "15"
      ]
     },
     "execution_count": 49,
     "metadata": {},
     "output_type": "execute_result"
    }
   ],
   "source": [
    "get_num_deviants(my, 'wine_servings', 2)"
   ]
  }
 ],
 "metadata": {
  "kernelspec": {
   "display_name": "Python 3",
   "language": "python",
   "name": "python3"
  },
  "language_info": {
   "codemirror_mode": {
    "name": "ipython",
    "version": 3
   },
   "file_extension": ".py",
   "mimetype": "text/x-python",
   "name": "python",
   "nbconvert_exporter": "python",
   "pygments_lexer": "ipython3",
   "version": "3.7.4"
  }
 },
 "nbformat": 4,
 "nbformat_minor": 2
}
